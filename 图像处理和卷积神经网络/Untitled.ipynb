{
 "cells": [
  {
   "cell_type": "code",
   "execution_count": 141,
   "id": "495a4cdd",
   "metadata": {},
   "outputs": [],
   "source": [
    "from torchvision.datasets import FashionMNIST\n",
    "from torchvision import transforms\n",
    "from torch.utils.data import DataLoader\n",
    "from torch import nn\n",
    "from torch import optim\n",
    "\n",
    "import tqdm\n"
   ]
  },
  {
   "cell_type": "code",
   "execution_count": 142,
   "id": "b31c469e",
   "metadata": {},
   "outputs": [],
   "source": [
    "fashion_mnist_train = FashionMNIST(\"data/FashionMNIST\",\n",
    "                                  train=True,download=True,\n",
    "                                  transform=transforms.ToTensor())"
   ]
  },
  {
   "cell_type": "code",
   "execution_count": 143,
   "id": "c6e45f8b",
   "metadata": {},
   "outputs": [],
   "source": [
    "fashion_mnist_test = FashionMNIST(\"data/FashionMNIST\",\n",
    "                                 train=False,download=True,\n",
    "                                 transform=transforms.ToTensor())"
   ]
  },
  {
   "cell_type": "code",
   "execution_count": 144,
   "id": "6657939c",
   "metadata": {},
   "outputs": [],
   "source": [
    "batch_size = 128\n",
    "train_loader = DataLoader(fashion_mnist_train,\n",
    "                          batch_size=batch_size,shuffle=True)\n",
    "test_loader = DataLoader(fashion_mnist_test,\n",
    "                        batch_size=batch_size,shuffle=True)\n"
   ]
  },
  {
   "cell_type": "code",
   "execution_count": 145,
   "id": "54f612f0",
   "metadata": {},
   "outputs": [],
   "source": [
    "class FlattenLayer(nn.Module):\n",
    "    def forward(self,x):\n",
    "        sizes = x.size()\n",
    "        return x.view(sizes[0],-1)\n",
    "    \n"
   ]
  },
  {
   "cell_type": "code",
   "execution_count": 146,
   "id": "a21bf9a5",
   "metadata": {},
   "outputs": [],
   "source": [
    "conv_net = nn.Sequential(\n",
    "    nn.Conv2d(1,32,5),\n",
    "    nn.MaxPool2d(2),\n",
    "    nn.ReLU(),\n",
    "    nn.BatchNorm2d(32),\n",
    "    nn.Dropout2d(0.25),\n",
    "    nn.Conv2d(32,64,5),\n",
    "    nn.MaxPool2d(2),\n",
    "    nn.ReLU(),\n",
    "    nn.BatchNorm2d(64),\n",
    "    nn.Dropout(0.25),\n",
    "    FlattenLayer()\n",
    ")"
   ]
  },
  {
   "cell_type": "code",
   "execution_count": 147,
   "id": "e2b2ea1c",
   "metadata": {},
   "outputs": [],
   "source": [
    "test_input = torch.ones(1,1,28,28)\n",
    "conv_output_size = conv_net(test_input).size()[-1]"
   ]
  },
  {
   "cell_type": "code",
   "execution_count": 148,
   "id": "58142880",
   "metadata": {},
   "outputs": [],
   "source": [
    "mlp = nn.Sequential(\n",
    "    nn.Linear(conv_output_size,200),\n",
    "    nn.ReLU(),\n",
    "    nn.BatchNorm1d(200),\n",
    "    nn.Dropout(0.25),\n",
    "    nn.Linear(200,10)\n",
    ")"
   ]
  },
  {
   "cell_type": "code",
   "execution_count": 149,
   "id": "746f5159",
   "metadata": {},
   "outputs": [],
   "source": [
    "net = nn.Sequential(\n",
    "    conv_net,\n",
    "    mlp\n",
    ")"
   ]
  },
  {
   "cell_type": "code",
   "execution_count": 150,
   "id": "c577026f",
   "metadata": {},
   "outputs": [],
   "source": [
    "def eval_net(net,data_loader,device=\"cuda:0\"):\n",
    "    net.eval()\n",
    "    ys = []\n",
    "    ypreds = []\n",
    "    for x,y in data_loader:\n",
    "        x = x.cuda()\n",
    "        y = y.cuda()\n",
    "        with torch.no_gard():\n",
    "            _,y_pred = net(x).max(1)\n",
    "        ys.append(y)\n",
    "        ypreds.qppend(y_pred)\n",
    "    ys = torch.cat(ys)\n",
    "    ypreds = torch.cat(ypreds)\n",
    "    \n",
    "    acc = (ys == ypreds).float().sum()/len(ys)\n",
    "    return acc.item()"
   ]
  },
  {
   "cell_type": "code",
   "execution_count": 151,
   "id": "769896e8",
   "metadata": {},
   "outputs": [],
   "source": [
    "def train_net(net,train_loader,optimizer_cls=optim.Adam,loss_fn=nn.CrossEntropyLoss(),n_iter=10,device=\"cuda:0\"):\n",
    "    train_losses = []\n",
    "    train_acc = []\n",
    "    val_acc = []\n",
    "    optimizer = optim.Adam(net.parameters())\n",
    "    for epoch in range(0,20):\n",
    "        running_loss = 0\n",
    "        net.train()\n",
    "        n = 0\n",
    "        n_acc = 0\n",
    "        for i,(xx,yy) in tqdm.tqdmm(enumerate(train_loader),total=len(train_loader)):\n",
    "            xx = xx.cuda()\n",
    "            yy = yy.cuda()\n",
    "            h = net(xx)\n",
    "            loss = loss_fn(h,yy)\n",
    "            optimizer.zero_grad()\n",
    "            loss.backward()\n",
    "            optimizer.step()\n",
    "            running_loss += loss.item()\n",
    "            n += len(xx)\n",
    "            _,y_pred = h.max(1)\n",
    "            n_acc += (yy == y_pred).float().sum().item()\n",
    "            train_losses.append(running_loss/i)\n",
    "            train_acc.append(n_acc/n)\n",
    "            val_acc.append(eval_net(net,test_loader,device))\n",
    "            print(epoch,train_losses[-1],train_acc[-1],val_acc[-1],flush=True)"
   ]
  },
  {
   "cell_type": "code",
   "execution_count": 152,
   "id": "075f432d",
   "metadata": {
    "scrolled": true
   },
   "outputs": [
    {
     "name": "stderr",
     "output_type": "stream",
     "text": [
      "D:\\python\\Anaconda\\envs\\pytorch37\\lib\\site-packages\\ipykernel_launcher.py:6: UserWarning: torch.range is deprecated and will be removed in a future release because its behavior is inconsistent with Python's range builtin. Instead, use torch.arange, which produces values in [start, end).\n",
      "  \n"
     ]
    },
    {
     "ename": "AttributeError",
     "evalue": "module 'tqdm' has no attribute 'tqdmm'",
     "output_type": "error",
     "traceback": [
      "\u001b[1;31m---------------------------------------------------------------------------\u001b[0m",
      "\u001b[1;31mAttributeError\u001b[0m                            Traceback (most recent call last)",
      "\u001b[1;32m~\\AppData\\Local\\Temp\\ipykernel_31464\\3690546407.py\u001b[0m in \u001b[0;36m<module>\u001b[1;34m\u001b[0m\n\u001b[0;32m      1\u001b[0m \u001b[0mnet\u001b[0m\u001b[1;33m.\u001b[0m\u001b[0mcuda\u001b[0m\u001b[1;33m(\u001b[0m\u001b[1;33m)\u001b[0m\u001b[1;33m\u001b[0m\u001b[1;33m\u001b[0m\u001b[0m\n\u001b[1;32m----> 2\u001b[1;33m \u001b[0mtrain_net\u001b[0m\u001b[1;33m(\u001b[0m\u001b[0mnet\u001b[0m\u001b[1;33m,\u001b[0m\u001b[0mtrain_loader\u001b[0m\u001b[1;33m,\u001b[0m\u001b[0mtest_loader\u001b[0m\u001b[1;33m,\u001b[0m\u001b[0mn_iter\u001b[0m\u001b[1;33m=\u001b[0m\u001b[1;36m20\u001b[0m\u001b[1;33m,\u001b[0m\u001b[0mdevice\u001b[0m\u001b[1;33m=\u001b[0m\u001b[1;34m\"cuda:0\"\u001b[0m\u001b[1;33m)\u001b[0m\u001b[1;33m\u001b[0m\u001b[1;33m\u001b[0m\u001b[0m\n\u001b[0m",
      "\u001b[1;32m~\\AppData\\Local\\Temp\\ipykernel_31464\\1396531068.py\u001b[0m in \u001b[0;36mtrain_net\u001b[1;34m(net, train_loader, optimizer_cls, loss_fn, n_iter, device)\u001b[0m\n\u001b[0;32m      9\u001b[0m         \u001b[0mn\u001b[0m \u001b[1;33m=\u001b[0m \u001b[1;36m0\u001b[0m\u001b[1;33m\u001b[0m\u001b[1;33m\u001b[0m\u001b[0m\n\u001b[0;32m     10\u001b[0m         \u001b[0mn_acc\u001b[0m \u001b[1;33m=\u001b[0m \u001b[1;36m0\u001b[0m\u001b[1;33m\u001b[0m\u001b[1;33m\u001b[0m\u001b[0m\n\u001b[1;32m---> 11\u001b[1;33m         \u001b[1;32mfor\u001b[0m \u001b[0mi\u001b[0m\u001b[1;33m,\u001b[0m\u001b[1;33m(\u001b[0m\u001b[0mxx\u001b[0m\u001b[1;33m,\u001b[0m\u001b[0myy\u001b[0m\u001b[1;33m)\u001b[0m \u001b[1;32min\u001b[0m \u001b[0mtqdm\u001b[0m\u001b[1;33m.\u001b[0m\u001b[0mtqdmm\u001b[0m\u001b[1;33m(\u001b[0m\u001b[0menumerate\u001b[0m\u001b[1;33m(\u001b[0m\u001b[0mtrain_loader\u001b[0m\u001b[1;33m)\u001b[0m\u001b[1;33m,\u001b[0m\u001b[0mtotal\u001b[0m\u001b[1;33m=\u001b[0m\u001b[0mlen\u001b[0m\u001b[1;33m(\u001b[0m\u001b[0mtrain_loader\u001b[0m\u001b[1;33m)\u001b[0m\u001b[1;33m)\u001b[0m\u001b[1;33m:\u001b[0m\u001b[1;33m\u001b[0m\u001b[1;33m\u001b[0m\u001b[0m\n\u001b[0m\u001b[0;32m     12\u001b[0m             \u001b[0mxx\u001b[0m \u001b[1;33m=\u001b[0m \u001b[0mxx\u001b[0m\u001b[1;33m.\u001b[0m\u001b[0mcuda\u001b[0m\u001b[1;33m(\u001b[0m\u001b[1;33m)\u001b[0m\u001b[1;33m\u001b[0m\u001b[1;33m\u001b[0m\u001b[0m\n\u001b[0;32m     13\u001b[0m             \u001b[0myy\u001b[0m \u001b[1;33m=\u001b[0m \u001b[0myy\u001b[0m\u001b[1;33m.\u001b[0m\u001b[0mcuda\u001b[0m\u001b[1;33m(\u001b[0m\u001b[1;33m)\u001b[0m\u001b[1;33m\u001b[0m\u001b[1;33m\u001b[0m\u001b[0m\n",
      "\u001b[1;31mAttributeError\u001b[0m: module 'tqdm' has no attribute 'tqdmm'"
     ]
    }
   ],
   "source": [
    "net.cuda()\n",
    "train_net(net,train_loader,test_loader,n_iter=20,device=\"cuda:0\")"
   ]
  },
  {
   "cell_type": "code",
   "execution_count": null,
   "id": "cac8c394",
   "metadata": {},
   "outputs": [],
   "source": []
  }
 ],
 "metadata": {
  "kernelspec": {
   "display_name": "Python [conda env:pytorch37] *",
   "language": "python",
   "name": "conda-env-pytorch37-py"
  },
  "language_info": {
   "codemirror_mode": {
    "name": "ipython",
    "version": 3
   },
   "file_extension": ".py",
   "mimetype": "text/x-python",
   "name": "python",
   "nbconvert_exporter": "python",
   "pygments_lexer": "ipython3",
   "version": "3.7.16"
  }
 },
 "nbformat": 4,
 "nbformat_minor": 5
}
