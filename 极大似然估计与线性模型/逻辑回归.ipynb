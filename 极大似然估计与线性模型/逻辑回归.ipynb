{
 "cells": [
  {
   "cell_type": "code",
   "execution_count": 5,
   "id": "0a46dc27",
   "metadata": {},
   "outputs": [],
   "source": [
    "from sklearn.datasets import load_iris\n",
    "import torch\n",
    "from torch import nn as nn\n",
    "from torch import optim \n",
    "%matplotlib inline\n",
    "import matplotlib.pyplot as plt\n",
    "iris = load_iris()"
   ]
  },
  {
   "cell_type": "code",
   "execution_count": 163,
   "id": "a5f7b58a",
   "metadata": {},
   "outputs": [],
   "source": [
    "x = iris.data[:100]\n",
    "y = iris.target[:100]"
   ]
  },
  {
   "cell_type": "code",
   "execution_count": 164,
   "id": "daae03db",
   "metadata": {},
   "outputs": [],
   "source": [
    "x = torch.tensor(x,dtype = torch.float32)\n",
    "y = torch.tensor(y,dtype = torch.float64)"
   ]
  },
  {
   "cell_type": "code",
   "execution_count": 165,
   "id": "e75c9554",
   "metadata": {},
   "outputs": [],
   "source": [
    "net = nn.Linear(4,1)"
   ]
  },
  {
   "cell_type": "code",
   "execution_count": 166,
   "id": "8d49647c",
   "metadata": {},
   "outputs": [],
   "source": [
    "loss_fn = nn.BCEWithLogitsLoss()"
   ]
  },
  {
   "cell_type": "code",
   "execution_count": 167,
   "id": "7968fe9c",
   "metadata": {},
   "outputs": [],
   "source": [
    "optimizer = optim.SGD(net.parameters(),lr=0.15)"
   ]
  },
  {
   "cell_type": "code",
   "execution_count": 168,
   "id": "6b2112e6",
   "metadata": {},
   "outputs": [
    {
     "data": {
      "text/plain": [
       "[<matplotlib.lines.Line2D at 0x1e42adae908>]"
      ]
     },
     "execution_count": 168,
     "metadata": {},
     "output_type": "execute_result"
    },
    {
     "data": {
      "image/png": "[encoded data removed]",
      "text/plain": [
       "<Figure size 640x480 with 1 Axes>"
      ]
     },
     "metadata": {},
     "output_type": "display_data"
    }
   ],
   "source": [
    "losses = []\n",
    "for epoch in range(100):\n",
    "    optimizer.zero_grad()\n",
    "    \n",
    "    y_pred = net(x)\n",
    "    \n",
    "    loss = loss_fn(y_pred.view_as(y),y)\n",
    "    loss.backward()\n",
    "    \n",
    "    optimizer.step()\n",
    "    losses.append(loss.item())\n",
    "    \n",
    "plt.plot(losses)"
   ]
  },
  {
   "cell_type": "code",
   "execution_count": 169,
   "id": "4d5aff15",
   "metadata": {},
   "outputs": [],
   "source": [
    "h = net(x)"
   ]
  },
  {
   "cell_type": "code",
   "execution_count": 170,
   "id": "a637afc3",
   "metadata": {},
   "outputs": [],
   "source": [
    "prob = torch.sigmoid(h)"
   ]
  },
  {
   "cell_type": "code",
   "execution_count": 171,
   "id": "39e41d37",
   "metadata": {},
   "outputs": [],
   "source": [
    "y_pred = prob >0.5"
   ]
  },
  {
   "cell_type": "code",
   "execution_count": 172,
   "id": "e299fbf8",
   "metadata": {},
   "outputs": [
    {
     "data": {
      "text/plain": [
       "100"
      ]
     },
     "execution_count": 172,
     "metadata": {},
     "output_type": "execute_result"
    }
   ],
   "source": [
    "(y.byte() == y_pred.view_as(y)).sum().item()"
   ]
  },
  {
   "cell_type": "code",
   "execution_count": 173,
   "id": "3e636ce5",
   "metadata": {},
   "outputs": [
    {
     "data": {
      "text/plain": [
       "tensor([0., 0., 0., 0., 0., 0., 0., 0., 0., 0., 0., 0., 0., 0., 0., 0., 0., 0.,\n",
       "        0., 0., 0., 0., 0., 0., 0., 0., 0., 0., 0., 0., 0., 0., 0., 0., 0., 0.,\n",
       "        0., 0., 0., 0., 0., 0., 0., 0., 0., 0., 0., 0., 0., 0., 1., 1., 1., 1.,\n",
       "        1., 1., 1., 1., 1., 1., 1., 1., 1., 1., 1., 1., 1., 1., 1., 1., 1., 1.,\n",
       "        1., 1., 1., 1., 1., 1., 1., 1., 1., 1., 1., 1., 1., 1., 1., 1., 1., 1.,\n",
       "        1., 1., 1., 1., 1., 1., 1., 1., 1., 1.], dtype=torch.float64)"
      ]
     },
     "execution_count": 173,
     "metadata": {},
     "output_type": "execute_result"
    }
   ],
   "source": [
    "y"
   ]
  },
  {
   "cell_type": "code",
   "execution_count": 1,
   "id": "f0acfa3f",
   "metadata": {},
   "outputs": [],
   "source": [
    "from sklearn.datasets import load_digits\n",
    "digits = load_digits()"
   ]
  },
  {
   "cell_type": "code",
   "execution_count": 2,
   "id": "10dc7776",
   "metadata": {},
   "outputs": [
    {
     "data": {
      "text/plain": [
       "(1797,)"
      ]
     },
     "execution_count": 2,
     "metadata": {},
     "output_type": "execute_result"
    }
   ],
   "source": [
    "x = digits.data\n",
    "y = digits.target\n",
    "y.shape"
   ]
  },
  {
   "cell_type": "code",
   "execution_count": 6,
   "id": "a4be5c75",
   "metadata": {},
   "outputs": [],
   "source": [
    "x = torch.tensor(x,dtype = torch.float32)\n",
    "y = torch.tensor(y,dtype = torch.int64)"
   ]
  },
  {
   "cell_type": "code",
   "execution_count": 26,
   "id": "ec23e883",
   "metadata": {},
   "outputs": [],
   "source": [
    "net = nn.Linear(x.size()[1],2)"
   ]
  },
  {
   "cell_type": "code",
   "execution_count": 27,
   "id": "4540de16",
   "metadata": {},
   "outputs": [],
   "source": [
    "loss_fn = nn.CrossEntropyLoss()"
   ]
  },
  {
   "cell_type": "code",
   "execution_count": 28,
   "id": "57469df8",
   "metadata": {},
   "outputs": [],
   "source": [
    "optimizer = optim.SGD(net.parameters(),lr=0.01)"
   ]
  },
  {
   "cell_type": "code",
   "execution_count": 29,
   "id": "e7ffe169",
   "metadata": {},
   "outputs": [
    {
     "data": {
      "text/plain": [
       "torch.Size([1797, 10])"
      ]
     },
     "execution_count": 29,
     "metadata": {},
     "output_type": "execute_result"
    }
   ],
   "source": [
    "losses = []\n",
    "for epoch in range(100):\n",
    "    optimizer.zero_grad()\n",
    "    \n",
    "    y_pred = net(x)\n",
    "    \n",
    "    loss = loss_fn(y_pred,y)  \n",
    "    loss.backward()\n",
    "    \n",
    "    optimizer.step()\n",
    "    losses.append(loss.item())\n",
    "\n",
    "# _,y_pred =torch.max(y_pred,1)\n",
    "y_pred.shape"
   ]
  },
  {
   "cell_type": "code",
   "execution_count": null,
   "id": "e2839585",
   "metadata": {},
   "outputs": [],
   "source": []
  },
  {
   "cell_type": "code",
   "execution_count": null,
   "id": "6f923408",
   "metadata": {},
   "outputs": [],
   "source": []
  },
  {
   "cell_type": "code",
   "execution_count": null,
   "id": "ac5e9136",
   "metadata": {},
   "outputs": [],
   "source": []
  },
  {
   "cell_type": "code",
   "execution_count": null,
   "id": "6556a174",
   "metadata": {},
   "outputs": [],
   "source": []
  }
 ],
 "metadata": {
  "kernelspec": {
   "display_name": "Python [conda env:pytorch37] *",
   "language": "python",
   "name": "conda-env-pytorch37-py"
  },
  "language_info": {
   "codemirror_mode": {
    "name": "ipython",
    "version": 3
   },
   "file_extension": ".py",
   "mimetype": "text/x-python",
   "name": "python",
   "nbconvert_exporter": "python",
   "pygments_lexer": "ipython3",
   "version": "3.7.16"
  }
 },
 "nbformat": 4,
 "nbformat_minor": 5
}
